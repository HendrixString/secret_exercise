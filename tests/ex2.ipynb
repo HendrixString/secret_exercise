{
 "cells": [
  {
   "cell_type": "code",
   "execution_count": 1,
   "metadata": {},
   "outputs": [],
   "source": [
    "from enum import IntEnum\n",
    "from typing import List, Union, Tuple\n",
    "\n",
    "class Lollipop(IntEnum):\n",
    "    RED = 0\n",
    "    YELLOW = 1"
   ]
  },
  {
   "cell_type": "code",
   "execution_count": 2,
   "metadata": {},
   "outputs": [],
   "source": [
    "state_map = (\n",
    "    # input: Red=0, Yellow=1\n",
    "    # 0, 1\n",
    "    ( 1, 5 ), # state 0: Start state\n",
    "    ( 2, 5 ), # state 1: 1st RED\n",
    "    ( 3, 5 ), # state 2: 2nd RED\n",
    "    ( 4, 5 ), # state 3: 3rd RED\n",
    "    ( 4, 5 ), # state 4: RED>=4\n",
    "    ( 1, 6 ), # state 5: 1st Yellow\n",
    "    ( 1, 7 ), # state 6: 2nd Yellow\n",
    "    ( 1, 8 ), # state 7: 3rd Yellow\n",
    "    ( 1, 8 ), # state 8: Yellow>=4\n",
    ")\n"
   ]
  },
  {
   "cell_type": "code",
   "execution_count": 3,
   "metadata": {},
   "outputs": [],
   "source": [
    "\n",
    "def iterate_machine(\n",
    "        input: List[int], state_map: Tuple[Tuple[int]], \n",
    "        start_state=0):\n",
    "    \"\"\"\n",
    "    A generator, that iterates the states of the machine  \n",
    "    \"\"\"\n",
    "    state = start_state\n",
    "    index = 0\n",
    "    len_input = len(input)\n",
    "\n",
    "    while(index < len_input):\n",
    "        eval = input[index]\n",
    "        state = state_map[state][eval]\n",
    "\n",
    "        yield state\n",
    "\n",
    "        index+=1\n",
    "\n",
    "\n"
   ]
  },
  {
   "cell_type": "code",
   "execution_count": 4,
   "metadata": {},
   "outputs": [],
   "source": [
    "def iterate_factory_line(input: List[int], start_state=0):\n",
    "    for state in iterate_machine(input, state_map=state_map, start_state=start_state):\n",
    "        if state==3:\n",
    "            print('Oh No! Too many RED Lolipops :(')\n",
    "        elif state==7:\n",
    "            print('Oh No! Too many Yellow Lolipops :(')\n",
    "    \n",
    "    print('Run finished.')\n"
   ]
  },
  {
   "cell_type": "code",
   "execution_count": 5,
   "metadata": {},
   "outputs": [],
   "source": [
    "# Line examples from the PDF, translated into arrays\n",
    "LINE_1 = [0, 1, 0, 1, 0, 1, 0, 1, 0]\n",
    "LINE_2 = [0, 1, 0, 0, 1, 0, 1, 0]\n",
    "LINE_3 = [0, 1, 0, 0, 0]\n",
    "LINE_4 = [0, 1, 0, 0, 0, 0, 0, 1, 1, 1, 1]\n"
   ]
  },
  {
   "cell_type": "code",
   "execution_count": 6,
   "metadata": {},
   "outputs": [],
   "source": [
    "def test(tests=[LINE_1, LINE_2, LINE_3, LINE_4]):\n",
    "    for ix, line in enumerate(tests):\n",
    "        print(f'- Line {ix + 1} is starting')\n",
    "        print(line)\n",
    "        iterate_factory_line(line)"
   ]
  },
  {
   "cell_type": "code",
   "execution_count": 7,
   "metadata": {},
   "outputs": [
    {
     "name": "stdout",
     "output_type": "stream",
     "text": [
      "- Line 1 is starting\n",
      "[0, 1, 0, 1, 0, 1, 0, 1, 0]\n",
      "Run finished.\n",
      "- Line 2 is starting\n",
      "[0, 1, 0, 0, 1, 0, 1, 0]\n",
      "Run finished.\n",
      "- Line 3 is starting\n",
      "[0, 1, 0, 0, 0]\n",
      "Oh No! Too many RED Lolipops :(\n",
      "Run finished.\n",
      "- Line 4 is starting\n",
      "[0, 1, 0, 0, 0, 0, 0, 1, 1, 1, 1]\n",
      "Oh No! Too many RED Lolipops :(\n",
      "Oh No! Too many Yellow Lolipops :(\n",
      "Run finished.\n"
     ]
    }
   ],
   "source": [
    "test()"
   ]
  },
  {
   "cell_type": "code",
   "execution_count": 28,
   "metadata": {},
   "outputs": [],
   "source": [
    "class State(object):\n",
    "    _id_counter: int = 0\n",
    "\n",
    "    def __new__(cls):\n",
    "        print(f\"Creating a new state object {State._id_counter}\")\n",
    "        instance = super().__new__(cls)\n",
    "        State._id_counter += 1\n",
    "        return instance\n",
    "    \n",
    "    def __init__(self, data: object=None):\n",
    "        self.__id = State._id_counter\n",
    "        self.__data = data\n",
    "\n",
    "    def id(self):\n",
    "        return self.__id\n",
    "\n",
    "    def data(self):\n",
    "        return self.__data\n",
    "\n",
    "\n",
    "class Event():\n",
    "    _id_counter: int = 0\n",
    "\n",
    "    def __init__(self, id: int, data: object):\n",
    "        self.__id = id\n",
    "        self.__data = data\n",
    "\n",
    "from typing import List\n",
    "\n",
    "class Machine(object):\n",
    "\n",
    "    def __init__(self, state=None):\n",
    "        self._states_dict = {}\n",
    "        self._state = state\n",
    "\n",
    "    def add(self, from_state: object, event: object, to_state: object):\n",
    "        events_dict = self._states_dict.get(from_state, {})\n",
    "        events_dict.update({ event : to_state })\n",
    "        self._states_dict.update({from_state : events_dict})\n",
    "    \n",
    "    def iterate_input(self, input: List[object]):\n",
    "        index = 0\n",
    "        len_input = len(input)\n",
    "\n",
    "        while(index < len_input):\n",
    "            eval = input[index]\n",
    "            events_dict = self._states_dict.get(self._state, None)\n",
    "\n",
    "            if events_dict is None:\n",
    "                raise Exception(f'No state registered for {self._state}')\n",
    "            \n",
    "            sync_state = events_dict.get(eval, None)\n",
    "\n",
    "            if sync_state is None:\n",
    "                raise Exception(f'No sync state registered for event {eval}')\n",
    "\n",
    "            self._state = sync_state\n",
    "\n",
    "            yield self._state\n",
    "\n",
    "            index+=1\n",
    "\n",
    "\n"
   ]
  },
  {
   "cell_type": "code",
   "execution_count": 29,
   "metadata": {},
   "outputs": [],
   "source": [
    "state_map = (\n",
    "    # input: Red=0, Yellow=1\n",
    "    # 0, 1\n",
    "    ( 1, 5 ), # state 0: Start state\n",
    "    ( 2, 5 ), # state 1: 1st RED\n",
    "    ( 3, 5 ), # state 2: 2nd RED\n",
    "    ( 4, 5 ), # state 3: 3rd RED\n",
    "    ( 4, 5 ), # state 4: RED>=4\n",
    "    ( 1, 6 ), # state 5: 1st Yellow\n",
    "    ( 1, 7 ), # state 6: 2nd Yellow\n",
    "    ( 1, 8 ), # state 7: 3rd Yellow\n",
    "    ( 1, 8 ), # state 8: Yellow>=4\n",
    ")\n"
   ]
  },
  {
   "cell_type": "code",
   "execution_count": 38,
   "metadata": {},
   "outputs": [
    {
     "data": {
      "text/plain": [
       "<__main__.Machine at 0x114944f40>"
      ]
     },
     "execution_count": 38,
     "metadata": {},
     "output_type": "execute_result"
    }
   ],
   "source": [
    "m = Machine(\"Start\")\n",
    "\n",
    "m.add(\"Start\", \"red\", \"R1\")\n",
    "m.add(\"Start\", \"yellow\", \"Y1\")\n",
    "\n",
    "m.add(\"R1\", \"red\", \"R2\")\n",
    "m.add(\"R1\", \"yellow\", \"Y1\")\n",
    "\n",
    "m.add(\"R2\", \"red\", \"R3\")\n",
    "m.add(\"R2\", \"yellow\", \"Y1\")\n",
    "\n",
    "m.add(\"R3\", \"red\", \"R4\")\n",
    "m.add(\"R3\", \"yellow\", \"Y1\")\n",
    "\n",
    "m.add(\"R4\", \"red\", \"R4\")\n",
    "m.add(\"R4\", \"yellow\", \"Y1\")\n",
    "\n",
    "#\n",
    "\n",
    "m.add(\"Y1\", \"red\", \"R1\")\n",
    "m.add(\"Y1\", \"yellow\", \"Y2\")\n",
    "\n",
    "m.add(\"Y2\", \"red\", \"R1\")\n",
    "m.add(\"Y2\", \"yellow\", \"Y3\")\n",
    "\n",
    "m.add(\"Y3\", \"red\", \"R1\")\n",
    "m.add(\"Y3\", \"yellow\", \"Y4\")\n",
    "\n",
    "m.add(\"Y4\", \"red\", \"R1\")\n",
    "m.add(\"Y4\", \"yellow\", \"Y4\")\n",
    "\n",
    "m"
   ]
  },
  {
   "cell_type": "code",
   "execution_count": 39,
   "metadata": {},
   "outputs": [],
   "source": [
    "A = \"red\"\n",
    "B = \"yellow\"\n",
    "\n",
    "LINE_1 = [A, B, A, B, A, B, A, B, A]\n",
    "LINE_2 = [A, B, A, A, B, A, B, A]\n",
    "LINE_3 = [A, B, A, A, A]\n",
    "LINE_4 = [A, B, A, A, A, A, A, B, B, B, B]"
   ]
  },
  {
   "cell_type": "code",
   "execution_count": 44,
   "metadata": {},
   "outputs": [],
   "source": [
    "\n",
    "def iterate_factory_line2(input: List[int], start_state=0):\n",
    "    for state in m.iterate_input(input):\n",
    "        if state==\"R3\":\n",
    "            print('Oh No! Too many RED Lolipops :(')\n",
    "        elif state==\"Y3\":\n",
    "            print('Oh No! Too many Yellow Lolipops :(')\n",
    "    \n",
    "    print('Run finished.')\n"
   ]
  },
  {
   "cell_type": "code",
   "execution_count": 49,
   "metadata": {},
   "outputs": [
    {
     "name": "stdout",
     "output_type": "stream",
     "text": [
      "Oh No! Too many RED Lolipops :(\n",
      "Oh No! Too many Yellow Lolipops :(\n",
      "Run finished.\n"
     ]
    }
   ],
   "source": [
    "iterate_factory_line2(LINE_4)"
   ]
  }
 ],
 "metadata": {
  "kernelspec": {
   "display_name": "Python 3",
   "language": "python",
   "name": "python3"
  },
  "language_info": {
   "codemirror_mode": {
    "name": "ipython",
    "version": 3
   },
   "file_extension": ".py",
   "mimetype": "text/x-python",
   "name": "python",
   "nbconvert_exporter": "python",
   "pygments_lexer": "ipython3",
   "version": "3.9.6"
  },
  "orig_nbformat": 4
 },
 "nbformat": 4,
 "nbformat_minor": 2
}
