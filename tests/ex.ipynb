{
 "cells": [
  {
   "cell_type": "code",
   "execution_count": 1,
   "metadata": {},
   "outputs": [],
   "source": [
    "from enum import IntEnum\n",
    "from typing import List, Union, Tuple\n",
    "\n",
    "class Lollipop(IntEnum):\n",
    "    RED = 0\n",
    "    YELLOW = 1"
   ]
  },
  {
   "cell_type": "code",
   "execution_count": 2,
   "metadata": {},
   "outputs": [],
   "source": [
    "state_map = (\n",
    "    # input: Red=0, Yellow=1\n",
    "    # 0, 1\n",
    "    ( 1, 5 ), # state 0: Start state\n",
    "    ( 2, 5 ), # state 1: 1st RED\n",
    "    ( 3, 5 ), # state 2: 2nd RED\n",
    "    ( 4, 5 ), # state 3: 3rd RED\n",
    "    ( 4, 5 ), # state 4: RED>=4\n",
    "    ( 1, 6 ), # state 5: 1st Yellow\n",
    "    ( 1, 7 ), # state 6: 2nd Yellow\n",
    "    ( 1, 8 ), # state 7: 3rd Yellow\n",
    "    ( 1, 8 ), # state 8: Yellow>=4\n",
    ")\n"
   ]
  },
  {
   "cell_type": "code",
   "execution_count": 3,
   "metadata": {},
   "outputs": [],
   "source": [
    "\n",
    "def iterate_machine(\n",
    "        input: List[int], state_map: Tuple[Tuple[int]], \n",
    "        start_state=0):\n",
    "    \"\"\"\n",
    "    A generator, that iterates the states of the machine  \n",
    "    \"\"\"\n",
    "    state = start_state\n",
    "    index = 0\n",
    "    len_input = len(input)\n",
    "\n",
    "    while(index < len_input):\n",
    "        eval = input[index]\n",
    "        state = state_map[state][eval]\n",
    "\n",
    "        yield state\n",
    "\n",
    "        index+=1\n",
    "\n",
    "\n"
   ]
  },
  {
   "cell_type": "code",
   "execution_count": 4,
   "metadata": {},
   "outputs": [],
   "source": [
    "def iterate_factory_line(input: List[int], start_state=0):\n",
    "    for state in iterate_machine(input, state_map=state_map, start_state=start_state):\n",
    "        if state==3:\n",
    "            print('Oh No! Too many RED Lolipops :(')\n",
    "        elif state==7:\n",
    "            print('Oh No! Too many Yellow Lolipops :(')\n",
    "    \n",
    "    print('Run finished.')\n"
   ]
  },
  {
   "cell_type": "code",
   "execution_count": 5,
   "metadata": {},
   "outputs": [],
   "source": [
    "# Line examples from the PDF, translated into arrays\n",
    "LINE_1 = [0, 1, 0, 1, 0, 1, 0, 1, 0]\n",
    "LINE_2 = [0, 1, 0, 0, 1, 0, 1, 0]\n",
    "LINE_3 = [0, 1, 0, 0, 0]\n",
    "LINE_4 = [0, 1, 0, 0, 0, 0, 0, 1, 1, 1, 1]\n"
   ]
  },
  {
   "cell_type": "code",
   "execution_count": 6,
   "metadata": {},
   "outputs": [],
   "source": [
    "def test(tests=[LINE_1, LINE_2, LINE_3, LINE_4]):\n",
    "    for ix, line in enumerate(tests):\n",
    "        print(f'- Line {ix + 1} is starting')\n",
    "        print(line)\n",
    "        iterate_factory_line(line)"
   ]
  },
  {
   "cell_type": "code",
   "execution_count": 7,
   "metadata": {},
   "outputs": [
    {
     "name": "stdout",
     "output_type": "stream",
     "text": [
      "- Line 1 is starting\n",
      "[0, 1, 0, 1, 0, 1, 0, 1, 0]\n",
      "Run finished.\n",
      "- Line 2 is starting\n",
      "[0, 1, 0, 0, 1, 0, 1, 0]\n",
      "Run finished.\n",
      "- Line 3 is starting\n",
      "[0, 1, 0, 0, 0]\n",
      "Oh No! Too many RED Lolipops :(\n",
      "Run finished.\n",
      "- Line 4 is starting\n",
      "[0, 1, 0, 0, 0, 0, 0, 1, 1, 1, 1]\n",
      "Oh No! Too many RED Lolipops :(\n",
      "Oh No! Too many Yellow Lolipops :(\n",
      "Run finished.\n"
     ]
    }
   ],
   "source": [
    "test()"
   ]
  },
  {
   "cell_type": "code",
   "execution_count": null,
   "metadata": {},
   "outputs": [],
   "source": []
  }
 ],
 "metadata": {
  "kernelspec": {
   "display_name": "Python 3",
   "language": "python",
   "name": "python3"
  },
  "language_info": {
   "codemirror_mode": {
    "name": "ipython",
    "version": 3
   },
   "file_extension": ".py",
   "mimetype": "text/x-python",
   "name": "python",
   "nbconvert_exporter": "python",
   "pygments_lexer": "ipython3",
   "version": "3.9.6"
  },
  "orig_nbformat": 4
 },
 "nbformat": 4,
 "nbformat_minor": 2
}
